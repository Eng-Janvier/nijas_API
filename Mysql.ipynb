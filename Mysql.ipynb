{
 "cells": [
  {
   "cell_type": "code",
   "execution_count": 12,
   "metadata": {},
   "outputs": [],
   "source": [
    "import mysql.connector as mysql"
   ]
  },
  {
   "cell_type": "code",
   "execution_count": 14,
   "metadata": {},
   "outputs": [
    {
     "name": "stdout",
     "output_type": "stream",
     "text": [
      "<mysql.connector.connection.MySQLConnection object at 0x0000023299BB1340>\n"
     ]
    }
   ],
   "source": [
    "db = mysql.connect(\n",
    "    host = 'localhost',\n",
    "    user = 'root',\n",
    "    passwd =\"\"\n",
    ")\n",
    "print(db)"
   ]
  },
  {
   "cell_type": "code",
   "execution_count": 15,
   "metadata": {},
   "outputs": [],
   "source": [
    "db = mysql.connect(\n",
    "    host = 'localhost',\n",
    "    user = 'root',\n",
    "    passwd =\"\"\n",
    ")\n",
    "\n",
    "cursor = db.cursor()\n",
    "\n",
    "cursor.execute(\"CREATE DATABASE SENSORS_DATA\")"
   ]
  },
  {
   "cell_type": "code",
   "execution_count": 16,
   "metadata": {},
   "outputs": [
    {
     "name": "stdout",
     "output_type": "stream",
     "text": [
      "[('information_schema',), ('iot_db',), ('mysql',), ('performance_schema',), ('phpmyadmin',), ('sensors_data',), ('test',)]\n"
     ]
    }
   ],
   "source": [
    "db = mysql.connect(\n",
    "    host = \"localhost\",\n",
    "    user = \"root\",\n",
    "    passwd = \"\"\n",
    ")\n",
    "cursor =db.cursor()\n",
    "cursor.execute(\"SHOW DATABASES\")\n",
    "databases=cursor.fetchall()\n",
    "print(databases)"
   ]
  },
  {
   "cell_type": "code",
   "execution_count": 18,
   "metadata": {},
   "outputs": [
    {
     "name": "stdout",
     "output_type": "stream",
     "text": [
      "[]\n"
     ]
    }
   ],
   "source": [
    "db=mysql.connect(\n",
    "    host=\"localhost\",\n",
    "    user=\"root\",\n",
    "    passwd=\"\",\n",
    "    database=\"sensors_data\"\n",
    ")\n",
    "cursor=db.cursor()\n",
    "cursor.execute(\"SHOW TABLES\")\n",
    "tables=cursor.fetchall()\n",
    "print(tables)"
   ]
  },
  {
   "cell_type": "code",
   "execution_count": 19,
   "metadata": {},
   "outputs": [],
   "source": [
    "db=mysql.connect(\n",
    "    host=\"localhost\",\n",
    "    user=\"root\",\n",
    "    passwd=\"\",\n",
    "    database=\"sensors_data\"\n",
    ")\n",
    "cursor=db.cursor()\n",
    "cursor.execute(\"CREATE TABLE DHT_DATA (ID INT(12) NOT NULL AUTO_INCREMENT PRIMARY KEY, TEMPERATURE FLOAT(11),HUMIDITY FLOAT(11))\")\n"
   ]
  },
  {
   "cell_type": "code",
   "execution_count": 20,
   "metadata": {},
   "outputs": [
    {
     "name": "stdout",
     "output_type": "stream",
     "text": [
      "[('dht_data',)]\n"
     ]
    }
   ],
   "source": [
    "db=mysql.connect(\n",
    "    host=\"localhost\",\n",
    "    user=\"root\",\n",
    "    passwd=\"\",\n",
    "    database=\"sensors_data\"\n",
    ")\n",
    "cursor=db.cursor()\n",
    "cursor.execute(\"SHOW TABLES\")\n",
    "tables=cursor.fetchall()\n",
    "print(tables)"
   ]
  },
  {
   "cell_type": "code",
   "execution_count": 22,
   "metadata": {},
   "outputs": [
    {
     "name": "stdout",
     "output_type": "stream",
     "text": [
      "[('ID', 'int(12)', 'NO', 'PRI', None, 'auto_increment'), ('TEMPERATURE', 'float', 'YES', '', None, ''), ('HUMIDITY', 'float', 'YES', '', None, '')]\n"
     ]
    }
   ],
   "source": [
    "db=mysql.connect(\n",
    "    host=\"localhost\",\n",
    "    user=\"root\",\n",
    "    passwd=\"\",\n",
    "    database=\"sensors_data\"\n",
    ")\n",
    "cursor=db.cursor()\n",
    "cursor.execute(\"DESC dht_data\")\n",
    "print(cursor.fetchall())"
   ]
  },
  {
   "cell_type": "code",
   "execution_count": 24,
   "metadata": {},
   "outputs": [
    {
     "name": "stdout",
     "output_type": "stream",
     "text": [
      "[('TEMPERATURE', 'float', 'YES', '', None, ''), ('HUMIDITY', 'float', 'YES', '', None, '')]\n"
     ]
    }
   ],
   "source": [
    "db = mysql.connect(\n",
    "    host = \"localhost\",\n",
    "    user = \"root\",\n",
    "    passwd = \"\",\n",
    "    database = \"sensors_data\"\n",
    ")\n",
    "\n",
    "cursor = db.cursor()\n",
    "## dropping the 'id' column\n",
    "cursor.execute(\"ALTER TABLE dht_data DROP ID\")\n",
    "cursor.execute(\"DESC dht_data\")\n",
    "\n",
    "print(cursor.fetchall())"
   ]
  },
  {
   "cell_type": "code",
   "execution_count": 25,
   "metadata": {},
   "outputs": [
    {
     "name": "stdout",
     "output_type": "stream",
     "text": [
      "[('ID', 'int(12)', 'NO', 'PRI', None, 'auto_increment'), ('TEMPERATURE', 'float', 'YES', '', None, ''), ('HUMIDITY', 'float', 'YES', '', None, '')]\n"
     ]
    }
   ],
   "source": [
    "db = mysql.connect(\n",
    "    host = \"localhost\",\n",
    "    user = \"root\",\n",
    "    passwd = \"\",\n",
    "    database = \"sensors_data\"\n",
    ")\n",
    "\n",
    "cursor = db.cursor()\n",
    "\n",
    "## adding 'id' column to the 'dht_data' table\n",
    "## 'FIRST' keyword in the statement will add a column in the starting of the table\n",
    "cursor.execute(\"ALTER TABLE dht_data ADD COLUMN ID INT(12) NOT NULL AUTO_INCREMENT PRIMARY KEY FIRST\")\n",
    "\n",
    "cursor.execute(\"DESC dht_data\")\n",
    "\n",
    "print(cursor.fetchall())"
   ]
  },
  {
   "cell_type": "code",
   "execution_count": 40,
   "metadata": {},
   "outputs": [
    {
     "name": "stdout",
     "output_type": "stream",
     "text": [
      "1 record inserted\n"
     ]
    }
   ],
   "source": [
    "db = mysql.connect(\n",
    "    host = \"localhost\",\n",
    "    user = \"root\",\n",
    "    passwd = \"\",\n",
    "    database = \"sensors_data\"\n",
    ")\n",
    "\n",
    "cursor = db.cursor()\n",
    "## defining the Query\n",
    "query = \"INSERT INTO dht_data (TEMPERATURE, HUMIDITY) VALUES (%s, %s)\"\n",
    "## storing values in a variable\n",
    "values = (36, 58)\n",
    "\n",
    "## executing the query with values\n",
    "cursor.execute(query, values)\n",
    "\n",
    "## to make final output we have to run the 'commit()' method of the database object\n",
    "db.commit()\n",
    "print(cursor.rowcount, \"record inserted\")"
   ]
  },
  {
   "cell_type": "code",
   "execution_count": 30,
   "metadata": {},
   "outputs": [
    {
     "name": "stdout",
     "output_type": "stream",
     "text": [
      "(1, 27.5, 120.0)\n",
      "(2, 25.0, 98.0)\n",
      "(3, 25.0, 98.0)\n"
     ]
    }
   ],
   "source": [
    "db = mysql.connect(\n",
    "    host = \"localhost\",\n",
    "    user = \"root\",\n",
    "    passwd = \"\",\n",
    "    database = \"sensors_data\"\n",
    ")\n",
    "\n",
    "cursor = db.cursor()\n",
    "## defining the Query\n",
    "query = \"SELECT * FROM dht_data\"\n",
    "\n",
    "## getting records from the table\n",
    "cursor.execute(query)\n",
    "\n",
    "## fetching all records from the 'cursor' object\n",
    "records = cursor.fetchall()\n",
    "\n",
    "## Showing the data\n",
    "for record in records:\n",
    "    print(record)"
   ]
  },
  {
   "cell_type": "code",
   "execution_count": 32,
   "metadata": {},
   "outputs": [
    {
     "name": "stdout",
     "output_type": "stream",
     "text": [
      "(27.5, 120.0)\n",
      "(25.0, 98.0)\n",
      "(25.0, 98.0)\n"
     ]
    }
   ],
   "source": [
    "db = mysql.connect(\n",
    "    host = \"localhost\",\n",
    "    user = \"root\",\n",
    "    passwd = \"\",\n",
    "    database = \"sensors_data\"\n",
    ")\n",
    "\n",
    "cursor = db.cursor()\n",
    "\n",
    "## defining the Query\n",
    "query = \"SELECT temperature,humidity FROM dht_data\"\n",
    "\n",
    "## getting 'user_name' column from the table\n",
    "cursor.execute(query)\n",
    "\n",
    "## fetching all usernames from the 'cursor' object\n",
    "usernames = cursor.fetchall()\n",
    "\n",
    "## Showing the data\n",
    "for username in usernames:\n",
    "    print(username)"
   ]
  },
  {
   "cell_type": "code",
   "execution_count": 33,
   "metadata": {},
   "outputs": [
    {
     "name": "stdout",
     "output_type": "stream",
     "text": [
      "(2, 25.0, 98.0)\n"
     ]
    }
   ],
   "source": [
    "db = mysql.connect(\n",
    "    host = \"localhost\",\n",
    "    user = \"root\",\n",
    "    passwd = \"\",\n",
    "    database = \"sensors_data\"\n",
    ")\n",
    "\n",
    "cursor = db.cursor()\n",
    "\n",
    "## defining the Query\n",
    "query = \"SELECT * FROM dht_data WHERE id = 2\"\n",
    "\n",
    "## getting records from the table\n",
    "cursor.execute(query)\n",
    "\n",
    "## fetching all records from the 'cursor' object\n",
    "records = cursor.fetchall()\n",
    "\n",
    "## Showing the data\n",
    "for record in records:\n",
    "    print(record)"
   ]
  },
  {
   "cell_type": "code",
   "execution_count": 34,
   "metadata": {},
   "outputs": [
    {
     "name": "stdout",
     "output_type": "stream",
     "text": [
      "(1, 27.5, 120.0)\n",
      "(2, 25.0, 98.0)\n",
      "(3, 25.0, 98.0)\n"
     ]
    }
   ],
   "source": [
    "db = mysql.connect(\n",
    "    host = \"localhost\",\n",
    "    user = \"root\",\n",
    "    passwd = \"\",\n",
    "    database = \"sensors_data\"\n",
    ")\n",
    "\n",
    "cursor = db.cursor()\n",
    "\n",
    "## defining the Query\n",
    "query = \"SELECT * FROM dht_data ORDER BY id\"\n",
    "\n",
    "## getting records from the table\n",
    "cursor.execute(query)\n",
    "\n",
    "## fetching all records from the 'cursor' object\n",
    "records = cursor.fetchall()\n",
    "\n",
    "## Showing the data\n",
    "for record in records:\n",
    "    print(record)"
   ]
  },
  {
   "cell_type": "code",
   "execution_count": 37,
   "metadata": {},
   "outputs": [
    {
     "name": "stdout",
     "output_type": "stream",
     "text": [
      "(3, 25.0, 98.0)\n",
      "(2, 25.0, 98.0)\n",
      "(1, 27.5, 120.0)\n"
     ]
    }
   ],
   "source": [
    "db = mysql.connect(\n",
    "    host = \"localhost\",\n",
    "    user = \"root\",\n",
    "    passwd = \"\",\n",
    "    database = \"sensors_data\"\n",
    ")\n",
    "\n",
    "cursor = db.cursor()\n",
    "\n",
    "## defining the Query\n",
    "query = \"SELECT * FROM dht_data ORDER BY id DESC\"\n",
    "\n",
    "## getting records from the table\n",
    "cursor.execute(query)\n",
    "\n",
    "## fetching all records from the 'cursor' object\n",
    "records = cursor.fetchall()\n",
    "\n",
    "## Showing the data\n",
    "for record in records:\n",
    "    print(record)"
   ]
  },
  {
   "cell_type": "code",
   "execution_count": 41,
   "metadata": {},
   "outputs": [
    {
     "name": "stdout",
     "output_type": "stream",
     "text": [
      "(5, 36.0, 58.0)\n"
     ]
    }
   ],
   "source": [
    "db = mysql.connect(\n",
    "    host = \"localhost\",\n",
    "    user = \"root\",\n",
    "    passwd = \"\",\n",
    "    database = \"sensors_data\"\n",
    ")\n",
    "\n",
    "cursor = db.cursor()\n",
    "\n",
    "## defining the Query\n",
    "query = \"SELECT * FROM dht_data ORDER BY id DESC LIMIT 1\"\n",
    "\n",
    "## getting records from the table\n",
    "cursor.execute(query)\n",
    "\n",
    "## fetching all records from the 'cursor' object\n",
    "records = cursor.fetchall()\n",
    "\n",
    "## Showing the data\n",
    "for record in records:\n",
    "    print(record)"
   ]
  },
  {
   "cell_type": "code",
   "execution_count": 42,
   "metadata": {},
   "outputs": [],
   "source": [
    "db = mysql.connect(\n",
    "    host = \"localhost\",\n",
    "    user = \"root\",\n",
    "    passwd = \"\",\n",
    "    database = \"sensors_data\"\n",
    ")\n",
    "\n",
    "cursor = db.cursor()\n",
    "\n",
    "## defining the Query\n",
    "query = \"DELETE FROM dht_data WHERE id = 5\"\n",
    "\n",
    "## executing the query\n",
    "cursor.execute(query)\n",
    "\n",
    "## final step to tell the database that we have changed the table data\n",
    "db.commit()"
   ]
  },
  {
   "cell_type": "code",
   "execution_count": 43,
   "metadata": {},
   "outputs": [],
   "source": [
    "db = mysql.connect(\n",
    "    host = \"localhost\",\n",
    "    user = \"root\",\n",
    "    passwd = \"\",\n",
    "    database = \"sensors_data\"\n",
    ")\n",
    "\n",
    "cursor = db.cursor()\n",
    "\n",
    "## defining the Query\n",
    "query = \"UPDATE dht_data SET temperature = 19 WHERE id = 1\"\n",
    "\n",
    "## executing the query\n",
    "cursor.execute(query)\n",
    "\n",
    "## final step to tell the database that we have changed the table data\n",
    "db.commit()"
   ]
  },
  {
   "cell_type": "code",
   "execution_count": 44,
   "metadata": {},
   "outputs": [
    {
     "name": "stdout",
     "output_type": "stream",
     "text": [
      "[(1, 19.0, 120.0), (2, 25.0, 98.0), (3, 25.0, 98.0), (4, 26.0, 68.0)]\n"
     ]
    }
   ],
   "source": [
    "db = mysql.connect(\n",
    "    host = \"localhost\",\n",
    "    user = \"root\",\n",
    "    passwd = \"\",\n",
    "    database = \"sensors_data\"\n",
    ")\n",
    "\n",
    "cursor = db.cursor()\n",
    "\n",
    "## defining the Query\n",
    "query = \"SELECT * FROM dht_data\"\n",
    "\n",
    "## executing the query\n",
    "cursor.execute(query)\n",
    "\n",
    "## final step to tell the database that we have changed the table data\n",
    "print(cursor.fetchall())"
   ]
  },
  {
   "cell_type": "code",
   "execution_count": 45,
   "metadata": {},
   "outputs": [],
   "source": [
    "db = mysql.connect(\n",
    "    host = \"localhost\",\n",
    "    user = \"root\",\n",
    "    passwd = \"\",\n",
    "    database = \"iot_db\"\n",
    ")\n",
    "\n",
    "cursor = db.cursor()\n",
    "\n",
    "## defining the Query\n",
    "query = \"DROP TABLE dht_tab\"\n",
    "\n",
    "## executing the query\n",
    "cursor.execute(query)\n",
    "\n"
   ]
  },
  {
   "cell_type": "code",
   "execution_count": 46,
   "metadata": {},
   "outputs": [],
   "source": [
    "db = mysql.connect(\n",
    "    host = \"localhost\",\n",
    "    user = \"root\",\n",
    "    passwd = \"\"\n",
    ")\n",
    "\n",
    "cursor = db.cursor()\n",
    "\n",
    "## defining the Query\n",
    "query = \"DROP DATABASE IOT_DB\"\n",
    "\n",
    "## executing the query\n",
    "cursor.execute(query)"
   ]
  },
  {
   "cell_type": "code",
   "execution_count": 1,
   "metadata": {},
   "outputs": [],
   "source": [
    "import mysql.connector as mysql"
   ]
  },
  {
   "cell_type": "code",
   "execution_count": 11,
   "metadata": {},
   "outputs": [],
   "source": [
    "db=mysql.connect(\n",
    "    host = 'localhost',\n",
    "    user = 'root',\n",
    "    passwd = '',\n",
    "    database = 'flask_api'\n",
    ")\n",
    "cursor = db.cursor()\n",
    "cursor.execute('CREATE TABLE DHT_API (id INT(12) NOT NULL UNIQUE AUTO_INCREMENT PRIMARY KEY, TEMPERATURE FLOAT(15), HUMIDITY FLOAT(15))')\n",
    "#print(cursor.fetchall())\n"
   ]
  },
  {
   "cell_type": "code",
   "execution_count": 12,
   "metadata": {},
   "outputs": [
    {
     "name": "stdout",
     "output_type": "stream",
     "text": [
      "[('dht_api',)]\n"
     ]
    }
   ],
   "source": [
    "db=mysql.connect(\n",
    "    host = 'localhost',\n",
    "    user = 'root',\n",
    "    passwd = '',\n",
    "    database = 'flask_api'\n",
    ")\n",
    "cursor = db.cursor()\n",
    "cursor.execute('show tables')\n",
    "print(cursor.fetchall())"
   ]
  }
 ],
 "metadata": {
  "interpreter": {
   "hash": "33e6f9a3be68705af342bcebf4369634766129232f46287a109f64837312ddda"
  },
  "kernelspec": {
   "display_name": "Python 3.9.7 ('AI-Fellowship')",
   "language": "python",
   "name": "python3"
  },
  "language_info": {
   "codemirror_mode": {
    "name": "ipython",
    "version": 3
   },
   "file_extension": ".py",
   "mimetype": "text/x-python",
   "name": "python",
   "nbconvert_exporter": "python",
   "pygments_lexer": "ipython3",
   "version": "3.9.7"
  },
  "orig_nbformat": 4
 },
 "nbformat": 4,
 "nbformat_minor": 2
}
